{
 "cells": [
  {
   "cell_type": "markdown",
   "id": "30a913b0-2b4d-4ad2-a146-e1e5d250ce45",
   "metadata": {},
   "source": [
    "# **Virtual Home Communitication Guide**"
   ]
  },
  {
   "cell_type": "markdown",
   "id": "7c891efb-5ff5-43aa-bc0d-5600ac9656af",
   "metadata": {},
   "source": [
    "## **1. Import community and establish connection**  \n",
    "\n",
    "This section initializes a connection to VirtualHome by specifying the executable file's path and setting up communication. The `UnityCommunication` class from `comm_unity` allows configuration of the host IP and port, defaulting to `localhost:8080`.\n",
    "\n",
    "### **Code Explanation**  \n",
    "- **Import required libraries**:  \n",
    "  - `pickle`, `pprint`: For data serialization and pretty-printing.  \n",
    "  - `comm_unity` from `virtualhome.simulation.unity_simulator`: Handles communication with the VirtualHome environment.  \n",
    "  - `PIL.Image`: For image processing.  \n",
    "  - `time`, `numpy`: Utility modules for time management and numerical operations.  \n",
    "\n",
    "- **Initialize UnityCommunication**:  \n",
    "  - Set `YOUR_FILE_NAME` to the path of the VirtualHome executable.  \n",
    "  - Create a `UnityCommunication` instance with the executable file path.  \n"
   ]
  },
  {
   "cell_type": "code",
   "execution_count": 2,
   "id": "926e3882-59a3-4bbb-bbe2-3c7107b4c1fa",
   "metadata": {},
   "outputs": [
    {
     "name": "stdout",
     "output_type": "stream",
     "text": [
      "['D:\\\\programs\\\\windows_exec.v2.2.4\\\\VirtualHome.exe', '-batchmode', '-http-port=8080', '-logFile D:\\\\code\\\\llm-reinforce-learning\\\\docs\\\\tutorial/Player_8080.log']\n",
      "Getting connection...\n"
     ]
    }
   ],
   "source": [
    "import pickle\n",
    "import pprint\n",
    "\n",
    "from virtualhome.simulation.unity_simulator import comm_unity\n",
    "from PIL import Image\n",
    "import time\n",
    "import numpy as np\n",
    "\n",
    "# init UnityCommunication\n",
    "YOUR_FILE_NAME = \"D:\\\\programs\\\\windows_exec.v2.2.4\\\\VirtualHome.exe\"\n",
    "comm = comm_unity.UnityCommunication(file_name=YOUR_FILE_NAME)\n"
   ]
  },
  {
   "cell_type": "markdown",
   "id": "b4bb967b-7b64-4e92-b304-6d0f598f44f6",
   "metadata": {},
   "source": [
    "## **2. Reset the Environment**  \n",
    "\n",
    "The `comm.reset()` method resets the VirtualHome simulation environment by clearing characters and scene modifications before reloading the selected scene.  \n",
    "\n",
    "### **Code Explanation**  \n",
    "- **Function Definition** (`reset(self, environment=None)`):  \n",
    "  - **Resets the scene**: Removes all characters and scene changes.  \n",
    "  - **Loads a new environment**: If an `environment` index (0–49) is provided, it loads the specified apartment.  \n",
    "  - **Sends a reset request**: Uses `post_command` to communicate with the VirtualHome simulator.  \n",
    "  - **Returns a success flag** (`True` or `False`), indicating whether the reset was successful.  \n",
    "\n",
    "### **Confirm Code Implementation of Commnicator**  \n",
    "\n",
    "```python\n",
    "def reset(self, environment=None):\n",
    "    \"\"\"\n",
    "    Reset scene. Deletes characters and scene changes, and loads the scene in scene_index\n",
    "\n",
    "    :param int environment: integer between 0 and 49, corresponding to the apartment we want to load\n",
    "    :return: success (bool)\n",
    "    \"\"\"\n",
    "    response = self.post_command({'id': str(time.time()), 'action': 'reset',\n",
    "                                    'intParams': [] if environment is None else [environment]})\n",
    "    return response['success']\n",
    "\n",
    "# Reset the environment and load apartment 0\n",
    "x = comm.reset(0)\n",
    "print(f'Reset: {x}')\n",
    "```  \n",
    "\n",
    "This ensures that the simulation starts from a clean state before executing further interactions."
   ]
  },
  {
   "cell_type": "code",
   "execution_count": 3,
   "id": "d2aa94eb-d8d7-468d-8d71-7531c1a50564",
   "metadata": {},
   "outputs": [
    {
     "name": "stdout",
     "output_type": "stream",
     "text": [
      "reset: True\n"
     ]
    }
   ],
   "source": [
    "x = comm.reset(0)\n",
    "print(f'reset: {x}')"
   ]
  },
  {
   "cell_type": "markdown",
   "id": "9db20cd1-0be9-4b2d-a944-58056409f19c",
   "metadata": {},
   "source": [
    "## **3. Environment Graph**  \n",
    "\n",
    "The `environment_graph()` method retrieves a structured representation of the current environment, including object locations, attributes, and relationships.  \n",
    "\n",
    "### **Code Explanation**  \n",
    "- **Retrieve the environment graph**:  \n",
    "  - `_, g = comm.environment_graph()` gets the graph representation, where `g` contains nodes (objects) and edges (relationships).  \n",
    "\n",
    "- **Identify specific objects**:  \n",
    "  - `salmon_id`: Extracts the unique ID of the object labeled `\"salmon\"`.  \n",
    "  - `microwave_id`: Extracts the unique ID of the `\"microwave\"`.  \n",
    "\n",
    "- **Check relationships**:  \n",
    "  - Searches for an edge (relationship) where the `\"salmon\"` is inside the `\"microwave\"`.  \n",
    "  - The relationship data structure contains `from_id` (salmon) and `to_id` (microwave).  \n"
   ]
  },
  {
   "cell_type": "code",
   "execution_count": 4,
   "id": "6b370ade-1219-4a6e-b897-73e48ed29687",
   "metadata": {},
   "outputs": [
    {
     "name": "stdout",
     "output_type": "stream",
     "text": [
      "Before script execution: Salmon in microwave = [{'from_id': 328, 'to_id': 314, 'relation_type': 'ON'}]\n"
     ]
    }
   ],
   "source": [
    "_, g = comm.environment_graph()\n",
    "salmon_id = [node['id'] for node in g['nodes'] if node['class_name'] == 'salmon'][0]\n",
    "microwave_id = [node['id'] for node in g['nodes'] if node['class_name'] == 'microwave'][0]\n",
    "\n",
    "salmon_in_microwave = [\n",
    "    relation for relation in g['edges']\n",
    "    if\n",
    "    relation['from_id'] == salmon_id and relation['to_id'] == microwave_id\n",
    "]\n",
    "print(\"Before script execution: Salmon in microwave =\", salmon_in_microwave)\n"
   ]
  },
  {
   "cell_type": "markdown",
   "id": "0ec23f71-9766-4065-9874-f2b24f228f2d",
   "metadata": {},
   "source": [
    "## **4. Characters**  \n",
    "\n",
    "VirtualHome allows adding one or more characters to the environment. The `comm.add_character()` method is used to introduce a character into the simulation. \n",
    "This command places a character into the VirtualHome scene, enabling interactions and actions within the simulation.\n",
    "\n",
    "### **Agent List**  \n",
    "A list of available agent models can be found at:  \n",
    "[VirtualHome Agents](http://virtual-home.org/documentation/master/kb/agents.html)  \n",
    "\n",
    "### **Code Explanation**  \n",
    "- **Adding a character**:  \n",
    "  - The function `comm.add_character('Chars/Male1')` adds a male character model (`Male1`) to the scene.  \n",
    "  - Different character models can be used based on the available agents list.  \n"
   ]
  },
  {
   "cell_type": "code",
   "execution_count": 5,
   "id": "a3bf5429-f2c3-491f-a299-3046942692fa",
   "metadata": {},
   "outputs": [
    {
     "data": {
      "text/plain": [
       "True"
      ]
     },
     "execution_count": 5,
     "metadata": {},
     "output_type": "execute_result"
    }
   ],
   "source": [
    "comm.add_character('Chars/Male1')"
   ]
  },
  {
   "cell_type": "markdown",
   "id": "9c7d5362-0975-4857-a92c-60b222e2b5c2",
   "metadata": {},
   "source": [
    "## **5. Script Execution and Rendering**  \n",
    "\n",
    "The `comm.render_script()` method is used to control the execution and rendering of commands within the simulation. It allows for the animation of actions in the form of images or videos, and you can configure various parameters to control the rendering behavior.  \n",
    "This method executes the series of commands and returns a result indicating the success or failure of the script execution, without rendering the animation.\n",
    "\n",
    "### **Code Explanation**  \n",
    "- **Script Creation**:  \n",
    "  A list of actions (script) is defined, where each entry represents a command for the character (`char0`):\n",
    "  - Walk to the object (`salmon`).\n",
    "  - Grab the `salmon`.\n",
    "  - Open the `microwave`.\n",
    "  - Put the `salmon` into the `microwave`.\n",
    "  - Close the `microwave`.  \n",
    "\n",
    "  The IDs of the `salmon` and `microwave` are dynamically inserted into the script commands.  \n",
    "\n",
    "- **Rendering Options**:  \n",
    "  - `recording=False`: Disable video recording of the rendered actions.  \n",
    "  - `skip_animation=True`: Skip the actual animation rendering, focusing on script execution without visual animation.  \n",
    "\n"
   ]
  },
  {
   "cell_type": "code",
   "execution_count": 6,
   "id": "8778bc7b-d79c-4f32-b9f9-9d9e84eae699",
   "metadata": {},
   "outputs": [
    {
     "name": "stdout",
     "output_type": "stream",
     "text": [
      "rendered script = (True, {'0': {'message': 'Success'}})\n"
     ]
    }
   ],
   "source": [
    "script = [\n",
    "    '<char0> [walk] <salmon> ({})'.format(salmon_id),\n",
    "    '<char0> [grab] <salmon> ({})'.format(salmon_id),\n",
    "    '<char0> [open] <microwave> ({})'.format(microwave_id),\n",
    "    '<char0> [putin] <salmon> ({}) <microwave> ({})'.format(salmon_id, microwave_id),\n",
    "    '<char0> [close] <microwave> ({})'.format(microwave_id)\n",
    "]\n",
    "# r = comm.render_script(script, recording=True, frame_rate=10)\n",
    "r = comm.render_script(script, recording=False, skip_animation=True)\n",
    "print(\"rendered script =\", r)"
   ]
  },
  {
   "cell_type": "markdown",
   "id": "900ff5ef-724b-4371-901e-4c6e2cbf4180",
   "metadata": {},
   "source": [
    "## **6. Check the Updated Status**  \n",
    "\n",
    "After executing the script, the environment is checked again to verify that the `salmon` has been successfully placed inside the `microwave`. The state graph is updated, reflecting the new relationships between objects.  \n",
    "This block of code verifies the successful execution of the script by checking if the salmon was indeed placed inside the microwave and prints the updated state of the environment.\n",
    "\n",
    "### **Code Explanation**  \n",
    "- **Retrieve Updated Environment Graph**:  \n",
    "  - `_, g = comm.environment_graph()` fetches the updated graph of the environment after executing the script.  \n",
    "\n",
    "- **Verify the Relationship**:  \n",
    "  - The `salmon_in_microwave` list is created by searching the edges (relationships) for one where the `salmon` is inside the `microwave`. This confirms the action was successful.  \n",
    "\n",
    "- **Print the Environment Information**:  \n",
    "  - `pprint.pprint(g['nodes'][:5])`: Prints the first 5 nodes (objects) in the environment, showing their details.  \n",
    "  - `pprint.pprint(g['edges'][:5])`: Prints the first 5 edges (relationships) in the environment, illustrating how objects are connected.  \n"
   ]
  },
  {
   "cell_type": "code",
   "execution_count": 7,
   "id": "c166c56c-d4f1-4a69-b64f-7848933c4d5d",
   "metadata": {
    "scrolled": true
   },
   "outputs": [
    {
     "name": "stdout",
     "output_type": "stream",
     "text": [
      "After script execution: Salmon in microwave = [{'from_id': 328, 'to_id': 314, 'relation_type': 'INSIDE'}]\n",
      "[{'bounding_box': {'center': [-2.50765753, 0.8730474, -3.26845956],\n",
      "                   'size': [1.34859729, 1.86971879, 0.515388]},\n",
      "  'category': 'Characters',\n",
      "  'class_name': 'character',\n",
      "  'id': 1,\n",
      "  'obj_transform': {'position': [-9.563976, 1.25, -3.541883],\n",
      "                    'rotation': [0.0, 0.987328768, 0.0, 0.158688009],\n",
      "                    'scale': [1.0, 1.0, 1.0]},\n",
      "  'prefab_name': 'Male1',\n",
      "  'properties': [],\n",
      "  'states': []},\n",
      " {'bounding_box': {'center': [-5.135, 1.247, 0.723], 'size': [8.0, 3.0, 5.5]},\n",
      "  'category': 'Rooms',\n",
      "  'class_name': 'bathroom',\n",
      "  'id': 11,\n",
      "  'obj_transform': {'position': [-6.385, -0.003, -0.527],\n",
      "                    'rotation': [0.0, 0.0, 0.0, 1.0],\n",
      "                    'scale': [1.0, 1.0, 1.0]},\n",
      "  'prefab_name': 'PRE_ROO_Bathroom_01',\n",
      "  'properties': [],\n",
      "  'states': []},\n",
      " {'bounding_box': {'center': [-7.635, -0.003, -0.52699995],\n",
      "                   'size': [2.5, 9.050127e-06, 2.5]},\n",
      "  'category': 'Floor',\n",
      "  'class_name': 'floor',\n",
      "  'id': 12,\n",
      "  'obj_transform': {'position': [-6.385, -0.003, -0.527],\n",
      "                    'rotation': [0.0, 0.0, 0.0, 1.0],\n",
      "                    'scale': [1.0, 1.0, 1.0]},\n",
      "  'prefab_name': 'PRE_FLO_Tile_07',\n",
      "  'properties': ['SURFACES'],\n",
      "  'states': []},\n",
      " {'bounding_box': {'center': [-7.635, -0.003, 1.973],\n",
      "                   'size': [2.5, 9.050127e-06, 2.5]},\n",
      "  'category': 'Floor',\n",
      "  'class_name': 'floor',\n",
      "  'id': 13,\n",
      "  'obj_transform': {'position': [-6.385, -0.003, 1.973],\n",
      "                    'rotation': [0.0, 0.0, 0.0, 1.0],\n",
      "                    'scale': [1.0, 1.0, 1.0]},\n",
      "  'prefab_name': 'PRE_FLO_Tile_07',\n",
      "  'properties': ['SURFACES'],\n",
      "  'states': []},\n",
      " {'bounding_box': {'center': [-5.135, -0.003, 1.973],\n",
      "                   'size': [2.5, 9.050127e-06, 2.5]},\n",
      "  'category': 'Floor',\n",
      "  'class_name': 'floor',\n",
      "  'id': 14,\n",
      "  'obj_transform': {'position': [-3.88500023, -0.003, 1.973],\n",
      "                    'rotation': [0.0, 0.0, 0.0, 1.0],\n",
      "                    'scale': [1.0, 1.0, 1.0]},\n",
      "  'prefab_name': 'PRE_FLO_Tile_07',\n",
      "  'properties': ['SURFACES'],\n",
      "  'states': []}]\n",
      "[{'from_id': 12, 'relation_type': 'INSIDE', 'to_id': 11},\n",
      " {'from_id': 13, 'relation_type': 'INSIDE', 'to_id': 11},\n",
      " {'from_id': 14, 'relation_type': 'INSIDE', 'to_id': 11},\n",
      " {'from_id': 15, 'relation_type': 'INSIDE', 'to_id': 11},\n",
      " {'from_id': 16, 'relation_type': 'INSIDE', 'to_id': 11}]\n"
     ]
    }
   ],
   "source": [
    "_, g = comm.environment_graph()\n",
    "\n",
    "\n",
    "salmon_in_microwave = [\n",
    "    relation for relation in g['edges']\n",
    "    if\n",
    "    relation['from_id'] == salmon_id and relation['to_id'] == microwave_id\n",
    "]\n",
    "print(\"After script execution: Salmon in microwave =\", salmon_in_microwave)\n",
    "\n",
    "\n",
    "pprint.pprint(g['nodes'][:5])\n",
    "pprint.pprint(g['edges'][:5])\n"
   ]
  },
  {
   "cell_type": "markdown",
   "id": "c28da6f0-296c-491b-aa15-f32dd2ce6a26",
   "metadata": {},
   "source": [
    "## **7. Predefined Objects**  \n",
    "\n",
    "In VirtualHome, various predefined object categories are available, including rooms, furniture, and food items. The script allows for checking whether certain objects exist in the current environment and what relationships they have.  \n",
    "\n",
    "### **Code Explanation**  \n",
    "- **Predefined Lists**:  \n",
    "  - `food_list`: A list of different food items available in the environment.  \n",
    "  - `room_list`: A list of rooms, such as the `kitchen`, `livingroom`, etc.  \n",
    "  - `object_list`: A list of furniture and objects, such as `microwave`, `coffeetable`, etc.  \n",
    "\n",
    "- **Helper Functions**:  \n",
    "  - `where_obj(xid: int, g: Any)`: Finds the name of the object by its ID (`xid`) from the graph (`g`).  \n",
    "  - `find_obj(objs: list[str], g: Any)`: Searches for the objects in the `objs` list and prints out their ID and relationships within the environment. It searches for nodes matching object types and then checks the relationships involving those objects.  \n"
   ]
  },
  {
   "cell_type": "code",
   "execution_count": 8,
   "id": "57e38b5d-b1e6-4c3c-8648-2a805cc75ec2",
   "metadata": {},
   "outputs": [],
   "source": [
    "from typing import Any\n",
    "food_list = ['salmon', 'apple', 'bananas', 'pancake', 'peach', 'pear', 'pie', 'potato',\n",
    "             'salad', 'tomato', 'wine', 'beer', 'plum', 'orange', 'milkshake', 'mincedmeat',\n",
    "             'lemon', 'juice', 'chocolatesyrup', 'chicken', 'carrot']\n",
    "\n",
    "room_list = ['kitchen', 'livingroom', 'kitchen', 'bedroom']\n",
    "object_list = ['microwave', 'coffeetable', 'kitchentable', 'wallshelf', 'kitchencounter', 'desk', 'fridge', 'bookshelf', 'stove']\n",
    "\n",
    "\n",
    "def where_obj(xid: int, g: Any):\n",
    "    return [node['class_name'] for node in g['nodes'] if node['id'] == xid]\n",
    "\n",
    "\n",
    "def find_obj(objs: list[str], g: Any):\n",
    "    for obj in objs:\n",
    "        xids = [node['id'] for node in g['nodes'] if node['class_name'] == obj]\n",
    "        if len(xids) <= 0:\n",
    "            continue\n",
    "\n",
    "        rels = [f'{edge['relation_type']}-{where_obj(edge['to_id'], g)}' for edge in g['edges'] if\n",
    "                edge['from_id'] == xids[0]]\n",
    "        print(f'obj_name: {obj}, id: {xids[0]}')\n",
    "\n",
    "        print(f'relations: {rels}')\n"
   ]
  },
  {
   "cell_type": "code",
   "execution_count": 9,
   "id": "26d5ce53-34a3-4bd5-859c-5c9f268b7011",
   "metadata": {},
   "outputs": [
    {
     "name": "stdout",
     "output_type": "stream",
     "text": [
      "res:  True\n",
      "obj_name: salmon, id: 328\n",
      "relations: [\"INSIDE-['kitchen']\", \"ON-['microwave']\"]\n",
      "obj_name: apple, id: 438\n",
      "relations: [\"INSIDE-['livingroom']\", \"ON-['coffeetable']\", \"FACING-['computer']\"]\n",
      "obj_name: bananas, id: 316\n",
      "relations: [\"INSIDE-['kitchen']\", \"INSIDE-['bookshelf']\", \"FACING-['tv']\"]\n",
      "obj_name: peach, id: 442\n",
      "relations: [\"INSIDE-['livingroom']\", \"ON-['coffeetable']\", \"FACING-['computer']\"]\n",
      "obj_name: pie, id: 320\n",
      "relations: [\"INSIDE-['kitchen']\", \"ON-['kitchentable']\", \"ON-['rug']\", \"FACING-['tv']\", \"FACING-['clock']\"]\n",
      "obj_name: plum, id: 444\n",
      "relations: [\"INSIDE-['livingroom']\", \"ON-['coffeetable']\", \"FACING-['computer']\"]\n",
      "obj_name: chocolatesyrup, id: 332\n",
      "relations: [\"INSIDE-['kitchen']\", \"ON-['wallshelf']\"]\n"
     ]
    }
   ],
   "source": [
    "res = comm.reset(0)\n",
    "# comm.add_character('Chars/Male1')\n",
    "print('res: ', res)\n",
    "res, g = comm.environment_graph()\n",
    "find_obj(food_list, g)"
   ]
  },
  {
   "cell_type": "code",
   "execution_count": 10,
   "id": "e064084c-3ea6-4dc7-b22b-17ff9df823a5",
   "metadata": {},
   "outputs": [
    {
     "name": "stdout",
     "output_type": "stream",
     "text": [
      "obj_name: microwave, id: 314\n",
      "relations: [\"INSIDE-['kitchen']\", \"ON-['kitchencounter']\", \"ON-['kitchencounterdrawer']\"]\n",
      "obj_name: coffeetable, id: 113\n",
      "relations: [\"INSIDE-['bedroom']\", \"ON-['floor']\", \"FACING-['computer']\"]\n",
      "obj_name: kitchentable, id: 231\n",
      "relations: [\"INSIDE-['kitchen']\", \"FACING-['tv']\"]\n",
      "obj_name: wallshelf, id: 44\n",
      "relations: [\"INSIDE-['bathroom']\"]\n",
      "obj_name: kitchencounter, id: 238\n",
      "relations: [\"INSIDE-['kitchen']\"]\n",
      "obj_name: desk, id: 110\n",
      "relations: [\"INSIDE-['bedroom']\", \"ON-['floor']\"]\n",
      "obj_name: fridge, id: 306\n",
      "relations: [\"INSIDE-['kitchen']\", \"ON-['floor']\"]\n",
      "obj_name: bookshelf, id: 107\n",
      "relations: [\"INSIDE-['bedroom']\", \"ON-['floor']\"]\n",
      "obj_name: stove, id: 312\n",
      "relations: [\"INSIDE-['kitchen']\"]\n"
     ]
    }
   ],
   "source": [
    "find_obj(object_list, g)"
   ]
  },
  {
   "cell_type": "markdown",
   "id": "82fe9bc0-2585-436d-bba2-5671fdbc1018",
   "metadata": {},
   "source": [
    "## **8. Check the Relationship Between Characters and Objects**  \n",
    "\n",
    "Before a character can perform an action on an object, it is essential to check whether the relationship between the character and the object satisfies the action's requirements. This can be done by inspecting the `environment_graph`. If a character is near or holding an object, the relevant relationship information will be stored in the graph.  \n",
    "This script checks if the character has acquired the `salmon` and outputs the last five relationships of the character, which should confirm the interaction and provide insights into the relationship between the character and objects.\n",
    "\n",
    "### **Code Explanation**  \n",
    "- **Reset Environment**:  \n",
    "  - The environment is reset with `comm.reset(0)` and the updated graph is retrieved.  \n",
    "\n",
    "- **Add Character**:  \n",
    "  - A character (`Male1`) is added to the environment using `comm.add_character('Chars/Male1')`.  \n",
    "\n",
    "- **Get Object ID**:  \n",
    "  - The ID of the `salmon` object is retrieved from the graph.  \n",
    "\n",
    "- **Define Script**:  \n",
    "  - The script defines a sequence of actions where the character walks to and grabs the `salmon`.  \n",
    "\n",
    "- **Execute Script**:  \n",
    "  - The `comm.render_script(scripts, recording=True, skip_animation=True)` method is used to render the actions, without displaying the animation but recording the result.  \n",
    "\n",
    "- **Check Character Relationships**:  \n",
    "  - The graph is examined again, and the relationships of all characters are printed. This helps confirm that the character has the proper relationship with the object (e.g., holding or near the `salmon`).  \n"
   ]
  },
  {
   "cell_type": "code",
   "execution_count": 11,
   "id": "7c614f50-ec08-4812-b8ca-7a51d60b2fed",
   "metadata": {},
   "outputs": [
    {
     "name": "stdout",
     "output_type": "stream",
     "text": [
      "salmon_id: 328\n",
      "[{'from_id': 1, 'relation_type': 'CLOSE', 'to_id': 311},\n",
      " {'from_id': 1, 'relation_type': 'CLOSE', 'to_id': 45},\n",
      " {'from_id': 1, 'relation_type': 'CLOSE', 'to_id': 235},\n",
      " {'from_id': 1, 'relation_type': 'CLOSE', 'to_id': 266},\n",
      " {'from_id': 1, 'relation_type': 'HOLDS_RH', 'to_id': 328}]\n"
     ]
    }
   ],
   "source": [
    "res = comm.reset(0)\n",
    "res, g = comm.environment_graph()\n",
    "comm.add_character('Chars/Male1')\n",
    "salmon_id = [node['id'] for node in g['nodes'] if node['class_name'] == 'salmon'][0]\n",
    "print(f'salmon_id: {salmon_id}')\n",
    "scripts = [\n",
    "    f'<char0> [walk] <salmon> ({salmon_id})',\n",
    "    f'<char0> [grab] <salmon> ({salmon_id})'\n",
    "]\n",
    "comm.render_script(scripts, recording=True, skip_animation=True)\n",
    "res, g = comm.environment_graph()\n",
    "character_list = [node for node in g['nodes'] if node['class_name'] == 'character']\n",
    "for character in character_list:\n",
    "    rels = [edge for edge in g['edges'] if edge['from_id'] == character['id']]\n",
    "    pprint.pprint(rels[-5:])\n"
   ]
  },
  {
   "cell_type": "markdown",
   "id": "30305785-a6c4-432d-9710-0a29ef79ab24",
   "metadata": {},
   "source": [
    "**Relation Type 说明**\n",
    "\n",
    "| Relation Type | Meaning                                                                 |\n",
    "|---------------|-------------------------------------------------------------------------|\n",
    "| ON            | Object `from_id` is on top of object `to_id`.                           |\n",
    "| INSIDE        | Object `from_id` is inside of object `to_id`.                           |\n",
    "| BETWEEN       | Used for doors. Door connects with room `to_id`.                        |\n",
    "| CLOSE         | Object `from_id` is close to object `to_id` (< 1.5 metres).             |\n",
    "| FACING        | Object `to_id` is visible from object `from_id` and distance is < 5 metres. If `from_id` is a sofa or a chair, it should also be turned towards `to_id`. |\n",
    "| HOLDS_RH      | Character `from_id` holds object `to_id` with the right hand.           |\n",
    "| HOLDS_LH      | Character `from_id` holds object `to_id` with the left hand.            |\n",
    "| SITTING       | Character `from_id` is sitting in object `to_id`.                       |\n",
    "\n",
    " \n",
    "\n",
    "  \n",
    "**Action 说明**\n",
    "| Action        | Arguments | Modifier | Preconditions                                                                 | Postconditions                                                                 | Example                     |\n",
    "|---------------|-----------|----------|-------------------------------------------------------------------------------|--------------------------------------------------------------------------------|-----------------------------|\n",
    "| **Walk**      | 1         |          | - Character is not sitting.<br>- `obj1` is reachable or is a room.<br>- `obj1` is not grabbed. | - Character moves close to `obj1`, ensuring visibility.<br>- If `obj1` is a room, character moves to its center. | `[walk] <kitchen> (1)`      |\n",
    "| **Run**       | 1         |          | - Character is not sitting.<br>- `obj1` is reachable or is a room.<br>- `obj1` is not grabbed. | - Character moves close to `obj1`, ensuring visibility.<br>- If `obj1` is a room, character moves to its center. | `[run] <kitchen> (1)`       |\n",
    "| **Walktowards** | 1         |          | - Character is not sitting.<br>- `obj1` is reachable or is a room.<br>- `obj1` is not grabbed. | - Character moves close to `obj1`, ensuring visibility.<br>- If `obj1` is a room, character moves to its center. | `[walktowards] <kitchen> (1)`<br>`[walktowards] <table> (1) :3:` |\n",
    "| **Walkforward** | 0         |          | - Character is not sitting.                                                   | - Character moves 1 meter forward according to current orientation.            | `[walkforward]`             |\n",
    "| **TurnLeft**  | 0         |          | - Character is not sitting.                                                   | - Character turns 30 degrees counterclockwise.                                 | `[turnleft]`                |\n",
    "| **TurnRight** | 0         |          | - Character is not sitting.                                                   | - Character turns 30 degrees clockwise.                                        | `[turnright]`               |\n",
    "| **Sit**       | 1         |          | - Character is not sitting.<br>- Character is close to `obj1`.<br>- `obj1` has property `sittable`.<br>- Number of objects on `obj1` must not exceed capacity. | - Adds directed edge: `character sitting obj1`.                                | `[sit] <chair> (1)`         |\n",
    "| **StandUp**   | 0         |          | - Character is sitting.                                                       | - Removes `sitting` state from character.                                      | `[standup]`                 |\n",
    "| **Grab**      | 1         |          | - `obj1` is grabbable (except water).<br>- Character is close to `obj1`.<br>- `obj1` is reachable.<br>- Character has at least one free hand. | - Adds directed edge: `character holds_rh` or `holds_lh obj1`.<br>- `obj1` is no longer on a surface or inside a container. | `[grab] <apple> (1)`        |\n",
    "| **Open**      | 1         |          | - `obj1` is opennable and closed.<br>- Character is close to `obj1`.<br>- `obj1` is reachable.<br>- Character has at least one free hand. | - `obj1` state changes to `open`.                                              | `[open] <fridge> (1)`       |\n",
    "| **Close**     | 1         |          | - `obj1` is opennable and open.<br>- Character is close to `obj1`.<br>- `obj1` is reachable.<br>- Character has at least one free hand. | - `obj1` state changes to `closed`.                                            | `[close] <fridge> (1)`      |\n",
    "| **Put**       | 2         |          | - Character holds `obj1` (left or right hand).<br>- Character is close to `obj2`. | - Removes directed edge: `character holds_lh` or `holds_rh obj1`.<br>- Adds directed edge: `obj1 on obj2`. | `[putback] <apple> (1) <table> (1)` |\n",
    "| **PutIn**     | 2         |          | - Character holds `obj1` (left or right hand).<br>- Character is close to `obj2`.<br>- `obj2` is not closed. | - Removes directed edge: `character holds_lh` or `holds_rh obj1`.<br>- Adds directed edge: `obj1 inside obj2`. | `[putin] <apple> (1) <fridge> (1)` |\n",
    "| **SwitchOn**  | 1         |          | - `obj1` has property `switch` and is off.<br>- Character is close to `obj1`. | - `obj1` state changes to `on`.                                                | `[switchon] <stove> (1)`    |\n",
    "| **SwitchOff** | 1         |          | - `obj1` has property `switch` and is on.<br>- Character is close to `obj1`.  | - `obj1` state changes to `off`.                                               | `[switchoff] <stove> (1)`   |\n",
    "| **Drink**     | 1         |          | - `obj1` is drinkable or a recipient.<br>- Character is close to `obj1`.      | -                                                                              | `[drink] <waterglass> (1)`  |\n",
    "| **Touch**     | 1         |          | - Character is close to `obj1`.<br>- `obj1` is reachable.                     | -                                                                              | `[touch] <stove> (1)`       |\n",
    "| **LookAt**    | 1         |          | - Character is facing `obj1`.<br>- `obj1` is reachable.                       | -                                                                              | `[lookat] <stove> (1)`      |"
   ]
  },
  {
   "cell_type": "code",
   "execution_count": null,
   "id": "e39068e1-d596-4a2d-98fb-2853ec1e1285",
   "metadata": {},
   "outputs": [],
   "source": []
  }
 ],
 "metadata": {
  "kernelspec": {
   "display_name": "Python 3 (ipykernel)",
   "language": "python",
   "name": "python3"
  },
  "language_info": {
   "codemirror_mode": {
    "name": "ipython",
    "version": 3
   },
   "file_extension": ".py",
   "mimetype": "text/x-python",
   "name": "python",
   "nbconvert_exporter": "python",
   "pygments_lexer": "ipython3",
   "version": "3.12.9"
  }
 },
 "nbformat": 4,
 "nbformat_minor": 5
}
